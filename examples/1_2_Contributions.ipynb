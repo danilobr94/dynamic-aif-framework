{
 "cells": [
  {
   "cell_type": "markdown",
   "metadata": {},
   "source": [
    "# 1 Contributions"
   ]
  },
  {
   "cell_type": "code",
   "execution_count": 1,
   "metadata": {},
   "outputs": [],
   "source": [
    "import numpy as np"
   ]
  },
  {
   "cell_type": "markdown",
   "metadata": {},
   "source": [
    "## 1.1 Data Generation\n",
    "The data $X^{(t)}, A^{(t)}$ and $Y^{(t)}$ at time step $t$ is assumed to be distributed according to some distribution $\\pi(X^{(t-1)}, A^{(t-1)},Y^{(t-1)})$. The features $X^{(t-1)}$ and $X^{(t)}$ between two different time step should be similar and the true label $Y^{(t)}$ must be predictable from $X^{(t)}$. In this setup there is only an initial correlation between features, labels and the protected attribute. During data generation more individuals from the protected group are sampled from the negative labeled cluster, but there is no further correlation between the protected group and the qualification (...).\n",
    "\n",
    "Individuals with a positive label are sampled from a bivariate gaussian with mean $\\mu _{pos}$ and negative labeled individuals from mean $\\mu_{neg}$.\n",
    "The overall setup for the data generation is:\n",
    "\n",
    "1. $Y^{(t)}$ is sampled proportional to $\\sum _ {j \\in G} \\sum _ {k=1} ^{n} \\hat{y} _j ^{(t-k)}$\n",
    "1. $X^{(t)}_{pos}$ (features for individuals with positive label) are sampled from $\\mathcal{N}(X^{(t)}, \\mu _{pos}, \\sigma _{pos})$\n",
    "1. $X^{(t)}_{neg}$ (features for individuals with negative label) are sampled from $\\mathcal{N}(X^{(t)}, \\mu _{neg}, \\sigma _{pos})$"
   ]
  },
  {
   "cell_type": "markdown",
   "metadata": {},
   "source": [
    "### 1.1.1. Individual Data Generation\n",
    "The probability for a positive label depends only on the predictions for the individual.\n",
    "\n",
    "This is achieved by sampling $x_j^{(t)}$ from  $\\mathcal{N}(X^{(t)}, x_j^{(t-1)}, \\sigma)$"
   ]
  },
  {
   "cell_type": "markdown",
   "metadata": {},
   "source": [
    "### 1.1.2. Group Data Generation\n",
    "The whole group sharing the protected attribute benefits from positive decisions for individuals.\n",
    "\n",
    "Again, points of the same generation are similar\n",
    "$$\\mathcal{N}\\left( x_i^{(t)}; \\overline{x}_{i-1} + \\alpha \\cdot \\vec{v} \\cdot \\sum    \\hat{y_i}, \\sigma \\right)$$"
   ]
  },
  {
   "cell_type": "markdown",
   "metadata": {},
   "source": [
    "## 1.2 Metric and Prediction Function\n",
    "To avoid re-implementation of metrics and decision functions, wrappers for AIF360 functions and metrics provided."
   ]
  },
  {
   "cell_type": "markdown",
   "metadata": {},
   "source": [
    "## 1.3. Plot Generator\n",
    "Finally, the plot generator runs the long term simulation by repeadeatly sampling new data, running predictions and computing the metric. To estimate the impact of decision rules a baseline data pipeline \n",
    "\n",
    "Input: Metric, DecisionFunction, DataGenerator, Steps\n",
    "\n",
    "X_old, A_old, Y_old <- DataGenerator.InitializeData\n",
    "X_base_old, A_base_old, Y_base_old <- X_old, A_old, Y_old \n",
    "\n",
    "TrueMetric.append(Metric(X, A, Y))\n",
    "BaselineMetric.append(Metric(X_base, A_base, Y_base))\n",
    "\n",
    "For s in Steps:\n",
    "    X_new, A_new, Y_new <- DataGenerator.Sample(X_old, A_old, Y_old)\n",
    "    TrueMetric.append(Metric(X_new, A_new, Y_new))\n",
    "    \n",
    "    Y_pos = PositiveLabel of shape Y_old\n",
    "    X_base_new, A_base_new, Y_base_new <- DataGenerator.Sample(X_base_old, A_base_old, Y_pos)\n",
    "    BaselineMetric.append(Metric( X_base_new, A_base_new, Y_base_new))\n",
    "    \n",
    "    Append X_new, ..., X_base_new, Y_base_new to the old data\n",
    " \n",
    "Output: Plot(TrueMetric, BaselineMetric)"
   ]
  },
  {
   "cell_type": "code",
   "execution_count": null,
   "metadata": {},
   "outputs": [],
   "source": []
  }
 ],
 "metadata": {
  "kernelspec": {
   "display_name": "aif360",
   "language": "python",
   "name": "aif360"
  },
  "language_info": {
   "codemirror_mode": {
    "name": "ipython",
    "version": 3
   },
   "file_extension": ".py",
   "mimetype": "text/x-python",
   "name": "python",
   "nbconvert_exporter": "python",
   "pygments_lexer": "ipython3",
   "version": "3.5.6"
  }
 },
 "nbformat": 4,
 "nbformat_minor": 2
}
