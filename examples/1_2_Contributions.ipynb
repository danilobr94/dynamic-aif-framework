{
 "cells": [
  {
   "cell_type": "markdown",
   "metadata": {},
   "source": [
    "# Contributions\n",
    "There are three main contributions implemented in this project. A data generator provides sequential data given old predictions at each time step. The plot generator implements the the loop by repedeatly sampling new data, evaluating metrics and finally plotting the results. Wrapper classes wrap methods from the aif360 framework to make them usable for the plot generation. This section describes the contributions formally. Code examples are provided in the jupyter notebook for the next section."
   ]
  },
  {
   "cell_type": "code",
   "execution_count": 1,
   "metadata": {},
   "outputs": [],
   "source": [
    "import networkx as nx\n",
    "import matplotlib.pyplot as plt "
   ]
  },
  {
   "cell_type": "markdown",
   "metadata": {},
   "source": [
    "# 1. Data Generation\n",
    "The data $X^{(t)}, A^{(t)}$ and $Y^{(t)}$ at time step $t$ is assumed to be distributed according to some distribution $\\pi(X^{(t-1)}, A^{(t-1)},Y^{(t-1)})$. The features $X^{(t-1)}$ and $X^{(t)}$ between two different time step should be similar and the true label $Y^{(t)}$ must be predictable from $X^{(t)}$. \n",
    "\n",
    "The data generator is implemented by initially sampling the unprotected features $X$ from two different bivariate gaussians. Individuals with a positive label are sampled from a gaussian with mean $\\mu _{pos}$ and negative labeled individuals from mean $\\mu_{neg}$. \n",
    "\n",
    "The protected attribute $A$ is constant over time and only sampled in the first step. To account for discrimination\n",
    "in the initial data generation step more individuals from the protected group are sampled from the negative cluster, but the data generator does not assume an actual causality between the protected feature and the positive label.\n",
    "\n",
    "Similarity of features between two different time steps is achieved by sampling new points around the previous points."
   ]
  },
  {
   "cell_type": "markdown",
   "metadata": {},
   "source": [
    "The overall setup for the data generation is:\n",
    "______\n",
    "*Initial Step:* **Inputs**: $\\mu_{pos}$, \\$\\mu_{neg}$, $\\Sigma_{pos}$, $\\Sigma_{neg}$, ***num_positive***, ***num_negative*** , ***discrimination_factor***\n",
    "______\n",
    "\n",
    "1. Sample ***num_positive***   $\\cdot$ ***discrimination_factor***    from  $\\mathcal{N}(X^{(t)}, \\mu _{pos}, \\Sigma _{pos})$\n",
    "1. Sample ***num_positive***   $\\cdot$ ***(1-discrimination_factor)*** from  $\\mathcal{N}(X^{(t)}, \\mu _{pos}, \\Sigma _{pos})$\n",
    "1. Sample ***num_negative*** $\\cdot$ ***(1-discrimination_factor)*** from  $\\mathcal{N}(X^{(t)}, \\mu _{neg}, \\Sigma _{neg})$\n",
    "1. Sample ***num_negative***   $\\cdot$ ***discrimination_factor***     from  $\\mathcal{N}(X^{(t)}, \\mu _{neg}, \\Sigma _{neg})$ \n",
    "____________\n",
    "____________"
   ]
  },
  {
   "cell_type": "markdown",
   "metadata": {},
   "source": [
    "_______\n",
    "*Dynamic Step:* **Inputs**: $\\Sigma_{pos}$, $\\Sigma_{neg}$, $\\Sigma_{local}$, ***step_size***\n",
    "_______\n",
    "\n",
    "For each individual $i$:\n",
    "\n",
    "   1. Compute $\\mu _{new}$\n",
    "   1. Sample the new features $X_i^{(t)}$ from $\\mathcal{N}(X^{(t)}, \\mu _{new}, \\Sigma _{local})$\n",
    "   1. Assign  $Y_i^{(t)}$ to the label of the closer cluster $\\mu_{pos}$ or $\\mu_{neg}$\n",
    "____\n",
    "____"
   ]
  },
  {
   "cell_type": "markdown",
   "metadata": {},
   "source": [
    "To account for the dynamics, individuals move towards the negative or positive cluster depending on previous predictions:\n",
    "\n",
    "$$\\mu_{new}=\\mathcal{N}\\left( x_i^{(t)};~ \\overline{x}_{i-1} + \\alpha \\cdot \\vec{v} \\cdot \\sum _ {j \\in G} \\sum _ {k=1} ^{n} \\hat{y} _j ^{(t-k)},~ \\sigma \\right)$$\n",
    "\n",
    "- $\\alpha \\in \\mathbb{R}$ is the step size.\n",
    "- $\\vec{v} \\in \\mathbb{R}^2$ is the direction vector pointing from the negative to the positive cluster (i.e. $\\vec{v} = \\mu _{pos} - \\mu _{neg}$).\n",
    "- $G$ subset of individuals influencing the decision.\n",
    "\n",
    "\n",
    "Two different assumptions about the group $G$ influencing the dynamics of the data generation are made:"
   ]
  },
  {
   "cell_type": "markdown",
   "metadata": {},
   "source": [
    "## Assumption 1: Positive Decisions only Affect Individuals\n",
    "The probability for a positive label depends only on the predictions for the individual itself. For individual $i$ this means $G_i=\\{i\\}$."
   ]
  },
  {
   "cell_type": "markdown",
   "metadata": {},
   "source": [
    "## Assumptions 2: Positive Decisions Affect the whole Group\n",
    "The whole group sharing the protected attribute benefits from positive decisions for individuals. For individual $i$ this means  $G_i=\\{j | A_i^{(t)} = A_j^{(t)} \\}$."
   ]
  },
  {
   "cell_type": "markdown",
   "metadata": {},
   "source": [
    "## Data Generation"
   ]
  },
  {
   "cell_type": "code",
   "execution_count": 38,
   "metadata": {},
   "outputs": [
    {
     "ename": "AttributeError",
     "evalue": "'NodeView' object has no attribute 'edgecolor'",
     "output_type": "error",
     "traceback": [
      "\u001b[0;31m---------------------------------------------------------------------------\u001b[0m",
      "\u001b[0;31mAttributeError\u001b[0m                            Traceback (most recent call last)",
      "\u001b[0;32m<ipython-input-38-22593babf5b8>\u001b[0m in \u001b[0;36m<module>\u001b[0;34m\u001b[0m\n\u001b[1;32m     15\u001b[0m         'x3': r'$X^{(t+1)}$', 'y3': r'$Y^{(t+1)}$', 'yh3': r'$\\hat{Y}^{(t+1)}$', 'a3': r'$A^{(t+1)}$'}\n\u001b[1;32m     16\u001b[0m \u001b[0;34m\u001b[0m\u001b[0m\n\u001b[0;32m---> 17\u001b[0;31m \u001b[0mG\u001b[0m\u001b[0;34m.\u001b[0m\u001b[0mnodes\u001b[0m\u001b[0;34m.\u001b[0m\u001b[0medgecolor\u001b[0m\u001b[0;34m(\u001b[0m\u001b[0;34m'r'\u001b[0m\u001b[0;34m)\u001b[0m\u001b[0;34m\u001b[0m\u001b[0;34m\u001b[0m\u001b[0m\n\u001b[0m\u001b[1;32m     18\u001b[0m \u001b[0mnx\u001b[0m\u001b[0;34m.\u001b[0m\u001b[0mdraw\u001b[0m\u001b[0;34m(\u001b[0m\u001b[0mG\u001b[0m\u001b[0;34m,\u001b[0m \u001b[0mpos\u001b[0m\u001b[0;34m,\u001b[0m \u001b[0mnode_size\u001b[0m \u001b[0;34m=\u001b[0m \u001b[0;36m1500\u001b[0m\u001b[0;34m,\u001b[0m \u001b[0msize\u001b[0m\u001b[0;34m=\u001b[0m\u001b[0;36m3\u001b[0m\u001b[0;34m,\u001b[0m \u001b[0mnode_color\u001b[0m\u001b[0;34m=\u001b[0m\u001b[0;34m'w'\u001b[0m\u001b[0;34m,\u001b[0m \u001b[0medge_color\u001b[0m\u001b[0;34m=\u001b[0m\u001b[0;34m'b'\u001b[0m\u001b[0;34m)\u001b[0m\u001b[0;34m\u001b[0m\u001b[0;34m\u001b[0m\u001b[0m\n\u001b[1;32m     19\u001b[0m \u001b[0mnx\u001b[0m\u001b[0;34m.\u001b[0m\u001b[0mdraw_networkx_labels\u001b[0m\u001b[0;34m(\u001b[0m\u001b[0mG\u001b[0m\u001b[0;34m,\u001b[0m \u001b[0mpos\u001b[0m\u001b[0;34m,\u001b[0m \u001b[0mlabels\u001b[0m\u001b[0;34m,\u001b[0m \u001b[0mnode_size\u001b[0m \u001b[0;34m=\u001b[0m \u001b[0;36m1500\u001b[0m\u001b[0;34m,\u001b[0m \u001b[0mfont_size\u001b[0m\u001b[0;34m=\u001b[0m\u001b[0;36m12\u001b[0m\u001b[0;34m,\u001b[0m \u001b[0mnode_color\u001b[0m\u001b[0;34m=\u001b[0m\u001b[0;34m'w'\u001b[0m\u001b[0;34m,\u001b[0m  \u001b[0medge_color\u001b[0m\u001b[0;34m=\u001b[0m\u001b[0;34m'b'\u001b[0m\u001b[0;34m)\u001b[0m\u001b[0;34m\u001b[0m\u001b[0;34m\u001b[0m\u001b[0m\n",
      "\u001b[0;31mAttributeError\u001b[0m: 'NodeView' object has no attribute 'edgecolor'"
     ]
    }
   ],
   "source": [
    "G = nx.DiGraph()\n",
    "\n",
    "G.add_edges_from([('a1', 'yh1'), ('x1', 'yh1'), ('x1', 'y1'), ('x1','y1'),   # layer 1 -> layer 1\n",
    "                  ('x1','x2'),   ('yh1','x2'),  ('a1','a2'),                 # layer 1 -> layer 2\n",
    "                  ('a2', 'yh2'), ('x2', 'yh2'), ('x2', 'y2'), ('x2','y2'),   # layer 2 -> layer 2\n",
    "                  ('x2','x3'),   ('yh2','x3'),  ('a2','a3'),                 # layer 2 -> layer 3\n",
    "                  ('a3', 'yh3'), ('x3', 'yh3'), ('x3', 'y3'), ('x3','y3')])  # layer 3 -> layer 3\n",
    "\n",
    "pos={'x1': [0, 2],  'y1': [0, 3], 'yh1':[0, 1], 'a1': [-.5, 0],\n",
    "     'x2': [1,  2], 'y2': [1, 3], 'yh2':[1, 1], 'a2': [.5, 0],\n",
    "     'x3': [2, 2],  'y3': [2, 3], 'yh3':[2, 1], 'a3': [1.5, 0]}\n",
    "\n",
    "labels={'x1': r'$X^{(t-1)}$', 'y1': r'$Y^{(t-1)}$', 'yh1': r'$\\hat{Y}^{(t-1)}$', 'a1': r'$A^{(t-1)}$',\n",
    "        'x2': r'$X^{(t)}$',   'y2': r'$Y^{(t)}$',   'yh2': r'$\\hat{Y}^{(t)}$',   'a2': r'$A^{(t)}$',\n",
    "        'x3': r'$X^{(t+1)}$', 'y3': r'$Y^{(t+1)}$', 'yh3': r'$\\hat{Y}^{(t+1)}$', 'a3': r'$A^{(t+1)}$'}\n",
    "\n",
    "G.nodes.edgecolor('r')\n",
    "nx.draw(G, pos, node_size = 1500, size=3, node_color='w', edge_color='b')\n",
    "nx.draw_networkx_labels(G, pos, labels, node_size = 1500, font_size=12, node_color='w',  edge_color='b')"
   ]
  },
  {
   "cell_type": "markdown",
   "metadata": {},
   "source": [
    "# 2. Metric and Prediction Function\n",
    "To avoid re-implementation of metrics and decision functions, wrappers for AIF360 functions and metrics provided."
   ]
  },
  {
   "cell_type": "markdown",
   "metadata": {},
   "source": [
    "# 3. Plot Generator\n",
    "Finally, the plot generator runs the long term simulation by repeadeatly sampling new data, running predictions and computing the metric. To estimate the impact of decision rules a baseline data pipeline constantly generates data assuming all previous decisions were positive. The pseudo code for the generator would be:"
   ]
  },
  {
   "cell_type": "markdown",
   "metadata": {},
   "source": [
    "**Input:** *Metric, DecisionFunction, DataGenerator, Steps*\n",
    "\n",
    "    X_old, A_old, Y_old = DataGenerator.InitializeData\n",
    "    X_base_old, A_base_old, Y_base_old = X_old, A_old, Y_old \n",
    "\n",
    "    TrueMetric.append(Metric(X, A, Y))\n",
    "    BaselineMetric.append(Metric(X_base, A_base, Y_base))\n",
    "\n",
    "    For s in Steps:\n",
    "        X_new, A_new, Y_new = DataGenerator.Sample(X_old, A_old, Y_old)\n",
    "        TrueMetric.append(Metric(X_new, A_new, Y_new))\n",
    "\n",
    "        Y_pos = PositiveLabel of shape Y_old\n",
    "        X_base_new, A_base_new, Y_base_new = DataGenerator.Sample(X_base_old, A_base_old, Y_pos)\n",
    "        \n",
    "        BaselineMetric.append(Metric( X_base_new, A_base_new, Y_base_new))\n",
    "\n",
    "        Append X_new, ..., X_base_new, Y_base_new to the old data\n",
    "\n",
    "**Output:** *Plot(TrueMetric, BaselineMetric)*\n"
   ]
  },
  {
   "cell_type": "code",
   "execution_count": null,
   "metadata": {},
   "outputs": [],
   "source": []
  }
 ],
 "metadata": {
  "kernelspec": {
   "display_name": "Python 3",
   "language": "python",
   "name": "python3"
  },
  "language_info": {
   "codemirror_mode": {
    "name": "ipython",
    "version": 3
   },
   "file_extension": ".py",
   "mimetype": "text/x-python",
   "name": "python",
   "nbconvert_exporter": "python",
   "pygments_lexer": "ipython3",
   "version": "3.7.4"
  }
 },
 "nbformat": 4,
 "nbformat_minor": 2
}
