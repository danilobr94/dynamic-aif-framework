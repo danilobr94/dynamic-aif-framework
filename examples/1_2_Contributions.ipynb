{
 "cells": [
  {
   "cell_type": "markdown",
   "metadata": {},
   "source": [
    "# Contributions"
   ]
  },
  {
   "cell_type": "code",
   "execution_count": 1,
   "metadata": {},
   "outputs": [],
   "source": [
    "import numpy as np"
   ]
  },
  {
   "cell_type": "markdown",
   "metadata": {},
   "source": [
    "# 1 Contributions"
   ]
  },
  {
   "cell_type": "markdown",
   "metadata": {},
   "source": [
    "## 1.1 Data Generation\n",
    "The data $X^{(t)}, A^{(t)}$ and $Y^{(t)}$ at time step $t$ is assumed to be distributed according to some distribution $\\pi(X^{(t-1)}, A^{(t-1)},Y^{(t-1)})$.\n",
    "The overall setup for the data generation is:\n",
    "\n",
    "1. $Y^{(t)}$ is sampled proportional to $\\sum _ {j \\in G} \\sum _ {i=1} ^{n} \\hat{y} _j ^{(t-n)}$\n",
    "1. $X^{(t)}_{pos}$ (features for individuals with positive label) are sampled from $\\mathcal{N}(X^{(t)}, \\mu _{pos}, \\sigma _{pos})$\n",
    "1. $X^{(t)}_{neg}$ (features for individuals with negative label) are sampled from $\\mathcal{N}(X^{(t)}, \\mu _{neg}, \\sigma _{pos})$\n",
    "\n",
    "Four different types of data generation exist:"
   ]
  },
  {
   "cell_type": "markdown",
   "metadata": {},
   "source": [
    "### 1. Individual Data Generation\n",
    "The probability for a positive label depends only on the predictions for the individual.\n",
    "\n",
    "#### Method 1\n",
    "The same data point $x_j$ between two time steps $t$ and $t-1$ must be similar:\n",
    "\n",
    "$$\\left\\lVert x_j^{(t)} - x_j^{(t-1)} \\right\\rVert \\leq \\epsilon$$\n",
    "\n",
    "This is achieved by sampling $x_j^{(t)}$ from  $\\mathcal{N}(X^{(t)}, x_j^{(t-1)}, \\sigma)$\n",
    "\n",
    "#### Method 2  Group Data Generation\n",
    "Only the number of individuals per group is influenced, but points are not related."
   ]
  },
  {
   "cell_type": "markdown",
   "metadata": {},
   "source": [
    "### 2. Group Data Generation\n",
    "The whole group benefits from positive decisions for individuals.\n",
    "#### Method 3\n",
    "$$\\mathcal{N}\\left( x_i^{(t)}; \\overline{x}_{i-1}, \\sigma \\right)$$\n",
    "\n",
    "#### Method 4 Clusters move Towards each other\n",
    "$$\\mathcal{N}\\left( x_i^{(t)}; \\overline{x}_{i-1} + \\alpha \\cdot \\vec{v} \\cdot \\sum    \\hat{y_i}, \\sigma \\right)$$"
   ]
  },
  {
   "cell_type": "markdown",
   "metadata": {},
   "source": [
    "## 1.2 Metric and Prediction Function\n",
    "Used to define metrics and decision functions suitable for the desired long term plot using AIF360.\n",
    "functions"
   ]
  },
  {
   "cell_type": "markdown",
   "metadata": {},
   "source": [
    "## 1.3. Plot Generator\n",
    "Runs the data generation, decision making and evaluation process and plots results\n"
   ]
  },
  {
   "cell_type": "markdown",
   "metadata": {},
   "source": [
    "# 2 Motivation\n",
    "With the knowledge about the data generation process, it is possible to estimate the long term effect of a decision rule without the data generation and baseline estimation process. However, the data generation process is assumed (and usually) unknown and even the baseline data generation process is not available in practice.\n",
    "\n",
    "Ultimately, a decision rule in this framework would incorporate knowledge about the sequential data generation and try to learn relationships.\n",
    "\n"
   ]
  },
  {
   "cell_type": "code",
   "execution_count": null,
   "metadata": {},
   "outputs": [],
   "source": []
  }
 ],
 "metadata": {
  "kernelspec": {
   "display_name": "aif360",
   "language": "python",
   "name": "aif360"
  },
  "language_info": {
   "codemirror_mode": {
    "name": "ipython",
    "version": 3
   },
   "file_extension": ".py",
   "mimetype": "text/x-python",
   "name": "python",
   "nbconvert_exporter": "python",
   "pygments_lexer": "ipython3",
   "version": "3.5.6"
  }
 },
 "nbformat": 4,
 "nbformat_minor": 2
}
