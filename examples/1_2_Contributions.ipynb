{
 "cells": [
  {
   "cell_type": "markdown",
   "metadata": {},
   "source": [
    "# Contributions\n",
    "There are three main contributions implemented in this project. A data generator provides sequential data given old predictions at each time step. The plot generator implements the the loop by repedeatly sampling new data, evaluating metrics and finally plotting the results. Wrapper classes wrap methods from the aif360 framework to make them usable for the plot generation. This section describes the contributions formally. Code examples are provided in the jupyter notebook for the next section."
   ]
  },
  {
   "cell_type": "code",
   "execution_count": 1,
   "metadata": {},
   "outputs": [],
   "source": [
    "import networkx as nx\n",
    "import matplotlib.pyplot as plt "
   ]
  },
  {
   "cell_type": "markdown",
   "metadata": {},
   "source": [
    "# 1. Data Generation\n",
    "The data $X^{(t)}, A^{(t)}$ and $Y^{(t)}$ at time step $t$ is assumed to be distributed according to some distribution $\\pi(X^{(t-1)}, A^{(t-1)},Y^{(t-1)})$. The features $X^{(t-1)}$ and $X^{(t)}$ between two different time step should be similar and the true label $Y^{(t)}$ must be predictable from $X^{(t)}$. \n",
    "\n",
    "The data generator is implemented by initially sampling the unprotected features $X$ from two different bivariate gaussians. Individuals with a positive label are sampled from a gaussian with mean $\\mu _{pos}$ and negative labeled individuals from mean $\\mu_{neg}$. \n",
    "\n",
    "The protected attribute $A$ is constant over time and only sampled in the first step. To account for discrimination\n",
    "in the initial data generation step more individuals from the protected group are sampled from the negative cluster, but the data generator does not assume an actual causality between the protected feature and the positive label.\n",
    "\n",
    "Similarity of features between two different time steps is achieved by sampling new points around the previous points."
   ]
  },
  {
   "cell_type": "markdown",
   "metadata": {},
   "source": [
    "The overall setup for the data generation is:\n",
    "\n",
    "*Initial Step:* **Inputs**: $\\mu_{pos}$, \\$\\mu_{neg}$, $\\Sigma_{pos}$, $\\Sigma_{neg}$, ***num_positive***, ***num_negative*** , ***discrimination_factor***\n",
    "\n",
    "1. Sample ***num_positive***   $\\cdot$ ***discrimination_factor***     from  $\\mathcal{N}(X^{(t)}, \\mu _{pos}, \\Sigma _{pos})$\n",
    "1. Sample ***num_positive***   $\\cdot$ ***(1-discrimination_factor)*** from  $\\mathcal{N}(X^{(t)}, \\mu _{pos}, \\Sigma _{pos})$\n",
    "1. Sample ***num_positive***** $\\cdot$ ***(1-discrimination_factor)*** from  $\\mathcal{N}(X^{(t)}, \\mu _{neg}, \\Sigma _{neg})$\n",
    "1. Sample ***num_negative***   $\\cdot$ ***discrimination_factor***     from  $\\mathcal{N}(X^{(t)}, \\mu _{neg}, \\Sigma _{neg})$ \n",
    "\n",
    "*Dynamic Step:* **Inputs**: $\\Sigma_{pos}$, $\\Sigma_{neg}$, $\\Sigma_{local}$, ***step_size***\n",
    "\n",
    "For each individual $i$:\n",
    "\n",
    "   1. Compute $\\mu _{new}$\n",
    "   1. Sample the new features $X_i^{(t)}$ from $\\mathcal{N}(X^{(t)}, \\mu _{new}, \\Sigma _{local})$\n",
    "   1. Assign  $Y_i^{(t)}$ to the label of the closer cluster $\\Sigma_{pos}$ or $\\Sigma_{neg}$"
   ]
  },
  {
   "cell_type": "markdown",
   "metadata": {},
   "source": [
    "To account for the dynamics, individuals move towards the negative or positive cluster depending on previous predictions:\n",
    "\n",
    "$$\\mu_{new}=\\mathcal{N}\\left( x_i^{(t)};~ \\overline{x}_{i-1} + \\alpha \\cdot \\vec{v} \\cdot \\sum _ {j \\in G} \\sum _ {k=1} ^{n} \\hat{y} _j ^{(t-k)},~ \\sigma \\right)$$\n",
    "\n",
    "\n",
    "Two different assumptions about the dynamics of the data generation are made (the Group $G$ in this case)."
   ]
  },
  {
   "cell_type": "markdown",
   "metadata": {},
   "source": [
    "## Assumption 1: Positive Decisions only Affect Individuals\n",
    "The probability for a positive label depends only on the predictions for the individual itself. For individual $i$ this means $G_i=\\{i\\}$."
   ]
  },
  {
   "cell_type": "markdown",
   "metadata": {},
   "source": [
    "## Assumptions 2: Positive Decisions Affect the whole Group\n",
    "The whole group sharing the protected attribute benefits from positive decisions for individuals. For individual $i$ this means  $G_i=\\{j | A_i^{(t)} = A_j^{(t)} \\}$."
   ]
  },
  {
   "cell_type": "code",
   "execution_count": 5,
   "metadata": {},
   "outputs": [
    {
     "data": {
      "image/png": "[encoded data removed]",
      "text/plain": [
       "<Figure size 216x216 with 1 Axes>"
      ]
     },
     "metadata": {},
     "output_type": "display_data"
    }
   ],
   "source": [
    "G = nx.MultiDiGraph()\n",
    "\n",
    "G.add_node(1)\n",
    "G.add_node(2)\n",
    "\n",
    "\n",
    "plt.figure(figsize=(3,3))\n",
    "nx.draw(G)"
   ]
  },
  {
   "cell_type": "markdown",
   "metadata": {},
   "source": [
    "# 2. Metric and Prediction Function\n",
    "To avoid re-implementation of metrics and decision functions, wrappers for AIF360 functions and metrics provided."
   ]
  },
  {
   "cell_type": "markdown",
   "metadata": {},
   "source": [
    "# 3. Plot Generator\n",
    "Finally, the plot generator runs the long term simulation by repeadeatly sampling new data, running predictions and computing the metric. To estimate the impact of decision rules a baseline data pipeline constantly generates data assuming all previous decisions were positive. The pseudo code for the generator would be:"
   ]
  },
  {
   "cell_type": "markdown",
   "metadata": {},
   "source": [
    "**Input:** *Metric, DecisionFunction, DataGenerator, Steps*\n",
    "\n",
    "    X_old, A_old, Y_old = DataGenerator.InitializeData\n",
    "    X_base_old, A_base_old, Y_base_old = X_old, A_old, Y_old \n",
    "\n",
    "    TrueMetric.append(Metric(X, A, Y))\n",
    "    BaselineMetric.append(Metric(X_base, A_base, Y_base))\n",
    "\n",
    "    For s in Steps:\n",
    "        X_new, A_new, Y_new = DataGenerator.Sample(X_old, A_old, Y_old)\n",
    "        TrueMetric.append(Metric(X_new, A_new, Y_new))\n",
    "\n",
    "        Y_pos = PositiveLabel of shape Y_old\n",
    "        X_base_new, A_base_new, Y_base_new = DataGenerator.Sample(X_base_old, A_base_old, Y_pos)\n",
    "        \n",
    "        BaselineMetric.append(Metric( X_base_new, A_base_new, Y_base_new))\n",
    "\n",
    "        Append X_new, ..., X_base_new, Y_base_new to the old data\n",
    "\n",
    "**Output:** *Plot(TrueMetric, BaselineMetric)*\n"
   ]
  },
  {
   "cell_type": "code",
   "execution_count": null,
   "metadata": {},
   "outputs": [],
   "source": []
  }
 ],
 "metadata": {
  "kernelspec": {
   "display_name": "aif360",
   "language": "python",
   "name": "aif360"
  },
  "language_info": {
   "codemirror_mode": {
    "name": "ipython",
    "version": 3
   },
   "file_extension": ".py",
   "mimetype": "text/x-python",
   "name": "python",
   "nbconvert_exporter": "python",
   "pygments_lexer": "ipython3",
   "version": "3.5.6"
  }
 },
 "nbformat": 4,
 "nbformat_minor": 2
}
