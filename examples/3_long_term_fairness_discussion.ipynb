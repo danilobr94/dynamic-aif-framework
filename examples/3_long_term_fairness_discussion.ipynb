{
 "cells": [
  {
   "cell_type": "markdown",
   "metadata": {},
   "source": [
    "# Discussion\n",
    "LongEffects of different "
   ]
  },
  {
   "cell_type": "code",
   "execution_count": 1,
   "metadata": {},
   "outputs": [
    {
     "name": "stdout",
     "output_type": "stream",
     "text": [
      "Import error: No module named 'tensorflow'\n"
     ]
    }
   ],
   "source": [
    "import sys\n",
    "import numpy as np\n",
    "sys.path.append(\"../\")\n",
    "\n",
    "from sklearn.linear_model import LogisticRegression\n",
    "from aif360.algorithms.inprocessing import PrejudiceRemover\n",
    "\n",
    "from long_term_fairness.ltf import LongTermFairnessPlot\n",
    "from long_term_fairness.ltf_data.individual_data_generator_simple import DataGenerator as IndDataGenSim\n",
    "from long_term_fairness.ltf_aif.longterm_aif import AifLongTermMetric, AifLongTermPrediction"
   ]
  },
  {
   "cell_type": "markdown",
   "metadata": {},
   "source": [
    "# Advanced Data Generation\n",
    "The assumption in the previous data generators was, that every individual would benefit from positive decisions at least in some cases. In other words, every individual could be positive labeled. This mus not always be the case.\n",
    "\n",
    "This could be modeled using a more complex model with a hidden variable $h$ representing whether an individual has the capability to become qualified. The goal of the decision maker in this case would be, to achieve accuracy in short term decision making and learn the hidden variable &h$ in the long term.\n",
    "\n",
    "The data generator should generate the data similar to the previous decision makers, but only individual with a positive hidden capability $h$ should benefit from positive decisions.\n",
    "\n"
   ]
  },
  {
   "cell_type": "code",
   "execution_count": null,
   "metadata": {},
   "outputs": [],
   "source": []
  }
 ],
 "metadata": {
  "kernelspec": {
   "display_name": "aif360",
   "language": "python",
   "name": "aif360"
  },
  "language_info": {
   "codemirror_mode": {
    "name": "ipython",
    "version": 3
   },
   "file_extension": ".py",
   "mimetype": "text/x-python",
   "name": "python",
   "nbconvert_exporter": "python",
   "pygments_lexer": "ipython3",
   "version": "3.5.6"
  }
 },
 "nbformat": 4,
 "nbformat_minor": 2
}
