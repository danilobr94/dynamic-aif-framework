{
 "cells": [
  {
   "cell_type": "markdown",
   "metadata": {},
   "source": [
    "# Discussion\n",
    "Long term effects of different ..."
   ]
  },
  {
   "cell_type": "code",
   "execution_count": 1,
   "metadata": {},
   "outputs": [
    {
     "name": "stdout",
     "output_type": "stream",
     "text": [
      "Import error: No module named 'tensorflow'\n"
     ]
    }
   ],
   "source": [
    "import sys\n",
    "import numpy as np\n",
    "sys.path.append(\"../\")\n",
    "\n",
    "from sklearn.linear_model import LogisticRegression\n",
    "from aif360.algorithms.inprocessing import PrejudiceRemover\n",
    "\n",
    "from long_term_fairness.ltf import LongTermFairnessPlot\n",
    "from long_term_fairness.ltf_data.individual_data_generator_simple import DataGenerator as IndDataGenSim\n",
    "from long_term_fairness.ltf_aif.longterm_aif import AifLongTermMetric, AifLongTermPrediction"
   ]
  },
  {
   "cell_type": "markdown",
   "metadata": {},
   "source": [
    "# Advanced Data Generation\n",
    "The assumption in the previous data generators was, that every individual would benefit from positive decisions at least in some cases. In other words, every individual could be positive labeled. This mus not always be the case.\n",
    "\n",
    "This could be modeled using a more complex model with a hidden variable $h$ representing whether an individual has the capability to become qualified. The goal of the decision maker in this case would be, to achieve accuracy in short term decision making and learn the hidden variable $h$ in the long term.\n",
    "\n",
    "The data generator should generate the data similar to the previous decision makers, but only individual with a positive hidden capability $h$ should benefit from positive decisions. The goal of the decision maker is to achieve reasonable accuracy in the current decision process but on the same hand maximize the pool of qualified individuals in the future.\n",
    "\n"
   ]
  },
  {
   "cell_type": "markdown",
   "metadata": {},
   "source": [
    "## 2.3 Long Term Decision Function\n",
    "The framework is used here to visualize the effects of different  short term decision functions on the long term effect. It is also designed to provide a possibility to train a decision function learning the long term relationship.\n",
    "\n",
    "A possible extension of the fairness in ML setup could be to extend the notation of the decision makers utility by the number of qualified individuals in the future. I.e. the decision maker does not only want to correctly label all qualified candidates in the current decision process but also to increase the number of qualified people for the future.\n",
    "\n",
    "$$max(U)$$\n",
    "\n",
    "$$U \\sim \\mathbb{E}[Y^{(t)}=\\hat{Y}^{(t)}] +  \\sum_{i=1} ^N \\mathbb{E}[\\# (Y^{(t+i)}=1)]$$\n",
    "\n"
   ]
  },
  {
   "cell_type": "markdown",
   "metadata": {},
   "source": [
    "## Improved Long Term Decision Rule\n",
    "Instead of simply considering the number of qualified individuals as in the long term decision function in the introduction, the decision maker could consider its own probability of hiring from an increased qualified individual pool:\n",
    "\n",
    "$$U \\sim \\sum _{i=0}^N p \\times \\mathbb{E}[(Y^{(i)}=\\hat{Y}^{(i)}]$$\n",
    "\n",
    "Although the decision maker could learn an accurate decision function and increase the pool of qualified individuals these qualified individuals might decline o work for the decision maker. If the decision maker knows its own probability for an individual to accept the decision makers offer $p$ the utility can be reformulated..."
   ]
  },
  {
   "cell_type": "markdown",
   "metadata": {},
   "source": [
    "## Fairness Definition in the Advanced Setup\n",
    "Let $H$ be a vector of hidden capabilities...\n",
    "\n",
    "Disparate Impact:\n",
    "$$P(\\hat{Y}=1|A=a_i, H=1) = P(\\hat{Y}=1|A=a_j, H=1) \\forall i, j$$"
   ]
  },
  {
   "cell_type": "markdown",
   "metadata": {},
   "source": [
    "# Next Steps\n",
    "- Decision maker should only have access to data with positive prediction (i.e. the dm only knows which individuals are qualified or not if the dm previously accepted them).\n",
    "\n",
    "- separate clf for baseline data \n",
    "\n",
    "- Improve data generation: use markov chains and one data generator with different options and a hidden variable denoting whether someone is qualified. \n",
    "\n",
    "-Similar individuals should benefit from decisions. This should be passed to the data generator: $G =\\{j | x_j \\sim x_i\\}$"
   ]
  },
  {
   "cell_type": "code",
   "execution_count": null,
   "metadata": {},
   "outputs": [],
   "source": []
  }
 ],
 "metadata": {
  "kernelspec": {
   "display_name": "aif360",
   "language": "python",
   "name": "aif360"
  },
  "language_info": {
   "codemirror_mode": {
    "name": "ipython",
    "version": 3
   },
   "file_extension": ".py",
   "mimetype": "text/x-python",
   "name": "python",
   "nbconvert_exporter": "python",
   "pygments_lexer": "ipython3",
   "version": "3.5.6"
  }
 },
 "nbformat": 4,
 "nbformat_minor": 2
}
