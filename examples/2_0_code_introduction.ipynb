{
 "cells": [
  {
   "cell_type": "markdown",
   "metadata": {},
   "source": [
    "# Introduction to Code Contributions"
   ]
  },
  {
   "cell_type": "code",
   "execution_count": null,
   "metadata": {},
   "outputs": [],
   "source": [
    "import sys\n",
    "import numpy as np\n",
    "sys.path.append(\"../\")\n",
    "\n",
    "from sklearn.linear_model import LogisticRegression\n",
    "from sklearn.svm import LinearSVC, SVC\n",
    "from aif360.algorithms.inprocessing import PrejudiceRemover\n",
    "\n",
    "from long_term_fairness.ltf_plot import LongTermFairnessPlot\n",
    "from long_term_fairness.ltf_data.group_data_generator import DataGenerator as GrpDataGen\n",
    "from long_term_fairness.ltf_aif.longterm_aif import AifLongTermMetric, AifLongTermPrediction"
   ]
  },
  {
   "cell_type": "markdown",
   "metadata": {},
   "source": [
    "# 1. Data Generator\n",
    "Generates points given data from the previous steps."
   ]
  },
  {
   "cell_type": "code",
   "execution_count": null,
   "metadata": {},
   "outputs": [],
   "source": [
    "generator = IndDataGen(mean_pos=[10, 7], \n",
    "                       cov_pos=[[1.2, 0], [0, 1.3]],\n",
    "                       mean_neg=[0, 1], \n",
    "                       cov_neg=[[1, 0], [0, 1.2]], \n",
    "                       degree=3, \n",
    "                       discrimination_factor=.7,\n",
    "                       num_positive_label=500, \n",
    "                       num_negative_label=500, \n",
    "                       neg_label=0, \n",
    "                       pos_label=1, \n",
    "                       neg_class=0, \n",
    "                       pos_class=1)"
   ]
  },
  {
   "cell_type": "code",
   "execution_count": null,
   "metadata": {},
   "outputs": [],
   "source": [
    "generator.sample() # must also work for None, None, None"
   ]
  },
  {
   "cell_type": "code",
   "execution_count": null,
   "metadata": {},
   "outputs": [],
   "source": [
    "generator.get_label()"
   ]
  },
  {
   "cell_type": "markdown",
   "metadata": {},
   "source": [
    "# 2. AIF360 Long Term Metric\n",
    "Interface to use AIF360 metrics for long term prediction"
   ]
  },
  {
   "cell_type": "code",
   "execution_count": null,
   "metadata": {},
   "outputs": [],
   "source": [
    "metric = AifLongTermMetric(metrics=[\"accuracy\", \"disparate_impact\"],\n",
    "                           pos_class=1, \n",
    "                           neg_class=0, \n",
    "                           pos_label=1, \n",
    "                           neg_label=0)"
   ]
  },
  {
   "cell_type": "code",
   "execution_count": null,
   "metadata": {},
   "outputs": [],
   "source": [
    "metric.metric(X, \n",
    "              X_sens, \n",
    "              y, \n",
    "              y_hat)"
   ]
  },
  {
   "cell_type": "markdown",
   "metadata": {},
   "source": [
    "# 3. AIF360 Long Term Prediction\n",
    "Interface to use AIF360s algorithms for the long term plot"
   ]
  },
  {
   "cell_type": "code",
   "execution_count": null,
   "metadata": {},
   "outputs": [],
   "source": [
    "clf = AifLongTermPrediction(clf=PrejudiceRemover(), \n",
    "                            pos_class=1, \n",
    "                            neg_class=0, \n",
    "                            pos_label=1, \n",
    "                            neg_label=0)"
   ]
  },
  {
   "cell_type": "code",
   "execution_count": null,
   "metadata": {},
   "outputs": [],
   "source": [
    "clf.fit(X, \n",
    "        X_sens, \n",
    "        y)"
   ]
  },
  {
   "cell_type": "code",
   "execution_count": null,
   "metadata": {},
   "outputs": [],
   "source": [
    "clf.predict(X, \n",
    "            X_sens)"
   ]
  },
  {
   "cell_type": "markdown",
   "metadata": {},
   "source": [
    "# 4. Long Term Plot\n",
    "Runs decision process over several generations."
   ]
  },
  {
   "cell_type": "code",
   "execution_count": null,
   "metadata": {},
   "outputs": [],
   "source": [
    "l = LongTermFairnessPlot(generator,     # must implement .sample() function\n",
    "                         clf,           # must implement fit(X, X_sens, y) and predict(X, X_sense)\n",
    "                         metric.metric, # function\n",
    "                         x_lim=[-3, 12], \n",
    "                         y_lim=[-1, 13])"
   ]
  },
  {
   "cell_type": "code",
   "execution_count": null,
   "metadata": {},
   "outputs": [],
   "source": []
  },
  {
   "cell_type": "code",
   "execution_count": null,
   "metadata": {},
   "outputs": [],
   "source": []
  }
 ],
 "metadata": {
  "kernelspec": {
   "display_name": "aif360",
   "language": "python",
   "name": "aif360"
  },
  "language_info": {
   "codemirror_mode": {
    "name": "ipython",
    "version": 3
   },
   "file_extension": ".py",
   "mimetype": "text/x-python",
   "name": "python",
   "nbconvert_exporter": "python",
   "pygments_lexer": "ipython3",
   "version": "3.5.6"
  }
 },
 "nbformat": 4,
 "nbformat_minor": 2
}
