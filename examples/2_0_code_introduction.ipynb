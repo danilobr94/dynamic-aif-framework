{
 "cells": [
  {
   "cell_type": "markdown",
   "metadata": {},
   "source": [
    "# Introduction to Code Contributions\n",
    "The three contributions presented in the last chapter are implemented in different modules of the python code. To distinguish between features of one time step and aggregated features, the aggregated features are referred with ```X```, features of one time step with ```X_t``` and features of an particular individual with ```X_i```."
   ]
  },
  {
   "cell_type": "code",
   "execution_count": null,
   "metadata": {},
   "outputs": [],
   "source": [
    "import sys\n",
    "import numpy as np\n",
    "sys.path.append(\"../\")\n",
    "\n",
    "from sklearn.linear_model import LogisticRegression\n",
    "from sklearn.svm import LinearSVC, SVC\n",
    "from aif360.algorithms.inprocessing import PrejudiceRemover\n",
    "\n",
    "from long_term_fairness.ltf_plot import LongTermFairnessPlot\n",
    "from long_term_fairness.ltf_data.group_data_generator import DataGenerator as GrpDataGen\n",
    "from long_term_fairness.ltf_aif.longterm_aif import AifLongTermMetric, AifLongTermPrediction"
   ]
  },
  {
   "cell_type": "markdown",
   "metadata": {},
   "source": [
    "# 1. Data Generator\n",
    "The data generator implements the dynamic data generation. The details about the data generation are explained in the previous section."
   ]
  },
  {
   "cell_type": "code",
   "execution_count": null,
   "metadata": {},
   "outputs": [],
   "source": [
    "# Initialization of the generator. The provided values are the default values.\n",
    "generator = IndDataGen(mean_pos=[10, 7],             # The mean for the positive cluster.\n",
    "                       cov_pos=[[1.2, 0], [0, 1.3]], # Covariance for the positive cluster.\n",
    "                       mean_neg=[0, 1],              # The mean for the negative cluster.\n",
    "                       cov_neg=[[1, 0], [0, 1.2]],   # Covariance for the negative cluster.\n",
    "                       degree=3,                     # Number of previous times steps t considered in dynamics.\n",
    "                       discrimination_factor=.7,     # The fraction of positive and negative labels in the first step.\n",
    "                       num_positive_label=500,       # Number of positive instances.\n",
    "                       num_negative_label=500,       # Number of negative instances.\n",
    "                       neg_label=0, # The label considered negative.\n",
    "                       pos_label=1, # The label considered positive.\n",
    "                       neg_class=0, # The protected attribute class considered negative.\n",
    "                       pos_class=1) # The protected attribute class considered positive."
   ]
  },
  {
   "cell_type": "code",
   "execution_count": null,
   "metadata": {},
   "outputs": [],
   "source": [
    "# The generator takes three arguments, the features X, true labels _y, and predictions y_hat.\n",
    "#generator.sample(X,      # 3D all previous features of shape [t, n, m]\n",
    "#                 _y, \n",
    "#                 y_hat\n"
   ]
  },
  {
   "cell_type": "code",
   "execution_count": null,
   "metadata": {},
   "outputs": [],
   "source": [
    "# When called with None, None, None the generator samples the initial data as explained in the previous section.\n",
    "X, x_sens, y = generator.sample(None, None, None)"
   ]
  },
  {
   "cell_type": "code",
   "execution_count": null,
   "metadata": {},
   "outputs": [],
   "source": [
    "# Otherwise\n",
    "X_new, x_sense_new, y_new = genertor.sample(X, x_sens, y)"
   ]
  },
  {
   "cell_type": "code",
   "execution_count": null,
   "metadata": {},
   "outputs": [],
   "source": [
    "generator.get_label()"
   ]
  },
  {
   "cell_type": "markdown",
   "metadata": {},
   "source": [
    "# 2. AIF360 Wrappers\n",
    "Two wrapper classes provide access to aif360 metrics and functions to be used in the long term framework."
   ]
  },
  {
   "cell_type": "markdown",
   "metadata": {},
   "source": [
    "## 2.1. AIF360 Long Term Prediction\n",
    "Interface to use AIF360s algorithms for the long term plot"
   ]
  },
  {
   "cell_type": "code",
   "execution_count": null,
   "metadata": {},
   "outputs": [],
   "source": [
    "clf = AifLongTermPrediction(clf=PrejudiceRemover(), \n",
    "                            pos_class=1, \n",
    "                            neg_class=0, \n",
    "                            pos_label=1, \n",
    "                            neg_label=0)"
   ]
  },
  {
   "cell_type": "code",
   "execution_count": null,
   "metadata": {},
   "outputs": [],
   "source": [
    "clf.fit(X, \n",
    "        X_sens, \n",
    "        y)"
   ]
  },
  {
   "cell_type": "code",
   "execution_count": null,
   "metadata": {},
   "outputs": [],
   "source": [
    "clf.predict(X, \n",
    "            X_sens)"
   ]
  },
  {
   "cell_type": "markdown",
   "metadata": {},
   "source": [
    "## 2.1. AIF360 Long Term Metric\n",
    "The class provides an interface to use AIF360 metrics for long term prediction."
   ]
  },
  {
   "cell_type": "code",
   "execution_count": null,
   "metadata": {},
   "outputs": [],
   "source": [
    "# The default metrics are accuracy and disparate impact. It is possible to provide more than two metrics\n",
    "# but the plot is unclear then. Any classification metric from aif 360 can be passed as string.\n",
    "# https://aif360.readthedocs.io/en/latest/modules/metrics.html#classification-metric\n",
    "metric = AifLongTermMetric(metrics=[\"accuracy\", \"disparate_impact\"],\n",
    "                           pos_class=1, \n",
    "                           neg_class=0, \n",
    "                           pos_label=1, \n",
    "                           neg_label=0)"
   ]
  },
  {
   "cell_type": "code",
   "execution_count": null,
   "metadata": {},
   "outputs": [],
   "source": [
    "metric.metric(X_t, \n",
    "              X_sens_t, \n",
    "              y_t, \n",
    "              y_hat_t)"
   ]
  },
  {
   "cell_type": "markdown",
   "metadata": {},
   "source": [
    "# 3. Long Term Plot\n",
    "Runs decision process over several generations."
   ]
  },
  {
   "cell_type": "code",
   "execution_count": null,
   "metadata": {},
   "outputs": [],
   "source": [
    "l = LongTermFairnessPlot(generator,     # must implement .sample() function\n",
    "                         clf,           # must implement fit(X, X_sens, y) and predict(X, X_sense)\n",
    "                         metric.metric, # function\n",
    "                         x_lim=[-3, 12], \n",
    "                         y_lim=[-1, 13])"
   ]
  },
  {
   "cell_type": "code",
   "execution_count": null,
   "metadata": {},
   "outputs": [],
   "source": []
  },
  {
   "cell_type": "code",
   "execution_count": null,
   "metadata": {},
   "outputs": [],
   "source": []
  }
 ],
 "metadata": {
  "kernelspec": {
   "display_name": "aif360",
   "language": "python",
   "name": "aif360"
  },
  "language_info": {
   "codemirror_mode": {
    "name": "ipython",
    "version": 3
   },
   "file_extension": ".py",
   "mimetype": "text/x-python",
   "name": "python",
   "nbconvert_exporter": "python",
   "pygments_lexer": "ipython3",
   "version": "3.5.6"
  }
 },
 "nbformat": 4,
 "nbformat_minor": 2
}
