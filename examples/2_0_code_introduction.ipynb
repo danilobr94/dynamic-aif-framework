{
 "cells": [
  {
   "cell_type": "markdown",
   "metadata": {},
   "source": [
    "# Introduction to Code Contributions\n",
    "The three contributions presented in the last chapter are implemented in different modules. To distinguish between features at a fixed time step and aggregated features, the aggregated features are referred to with ```X```, features of one time step with ```X_t``` and features of an particular individual with ```X_i```."
   ]
  },
  {
   "cell_type": "code",
   "execution_count": 1,
   "metadata": {},
   "outputs": [
    {
     "name": "stdout",
     "output_type": "stream",
     "text": [
      "Import error: No module named 'tensorflow'\n"
     ]
    },
    {
     "ename": "NameError",
     "evalue": "name 'warnings' is not defined",
     "output_type": "error",
     "traceback": [
      "\u001b[0;31m---------------------------------------------------------------------------\u001b[0m",
      "\u001b[0;31mNameError\u001b[0m                                 Traceback (most recent call last)",
      "\u001b[0;32m<ipython-input-1-9c6a37fadbc0>\u001b[0m in \u001b[0;36m<module>\u001b[0;34m\u001b[0m\n\u001b[1;32m     11\u001b[0m \u001b[0;32mfrom\u001b[0m \u001b[0mlong_term_fairness\u001b[0m\u001b[0;34m.\u001b[0m\u001b[0mltf_aif\u001b[0m\u001b[0;34m.\u001b[0m\u001b[0mlongterm_aif\u001b[0m \u001b[0;32mimport\u001b[0m \u001b[0mAifLongTermMetric\u001b[0m\u001b[0;34m,\u001b[0m \u001b[0mAifLongTermPrediction\u001b[0m\u001b[0;34m\u001b[0m\u001b[0;34m\u001b[0m\u001b[0m\n\u001b[1;32m     12\u001b[0m \u001b[0;34m\u001b[0m\u001b[0m\n\u001b[0;32m---> 13\u001b[0;31m \u001b[0mwarnings\u001b[0m\u001b[0;34m.\u001b[0m\u001b[0mfilterwarnings\u001b[0m\u001b[0;34m(\u001b[0m\u001b[0;34m\"ignore\"\u001b[0m\u001b[0;34m)\u001b[0m\u001b[0;34m\u001b[0m\u001b[0;34m\u001b[0m\u001b[0m\n\u001b[0m",
      "\u001b[0;31mNameError\u001b[0m: name 'warnings' is not defined"
     ]
    }
   ],
   "source": [
    "import sys\n",
    "import numpy as np\n",
    "sys.path.append(\"../\")\n",
    "\n",
    "from sklearn.linear_model import LogisticRegression\n",
    "from sklearn.svm import LinearSVC, SVC\n",
    "from aif360.algorithms.inprocessing import PrejudiceRemover\n",
    "\n",
    "from long_term_fairness.ltf_plot import LongTermFairnessPlot\n",
    "from long_term_fairness.ltf_data.group_data_generator import GroupDataGenerator as DataGenerator\n",
    "from long_term_fairness.ltf_aif.longterm_aif import AifLongTermMetric, AifLongTermPrediction\n",
    "\n",
    "warnings.filterwarnings(\"ignore\")"
   ]
  },
  {
   "cell_type": "markdown",
   "metadata": {},
   "source": [
    "# 1. Data Generator\n",
    "The data generator implements the dynamic data generation. The details about the data generation are explained in the previous section."
   ]
  },
  {
   "cell_type": "code",
   "execution_count": null,
   "metadata": {},
   "outputs": [],
   "source": [
    "# Initialization of the generator. The provided values are the default values.\n",
    "generator = DataGenerator(mean_pos=[10, 7],             # The mean for the positive cluster.\n",
    "                          cov_pos=[[1.2, 0], [0, 1.3]], # Covariance for the positive cluster.\n",
    "                          mean_neg=[0, 1],              # The mean for the negative cluster.\n",
    "                          cov_neg=[[1, 0], [0, 1.2]],   # Covariance for the negative cluster.\n",
    "                          degree=3,                     # Number of previous steps t considered in dynamics.\n",
    "                          discrimination_factor=.7,     # Fraction of positive/negative labels in first step.\n",
    "                          num_positive_label=500,       # Number of positive instances.\n",
    "                          num_negative_label=500,       # Number of negative instances.\n",
    "                          neg_label=0, # The label considered negative.\n",
    "                          pos_label=1, # The label considered positive.\n",
    "                          neg_class=0, # The protected attribute class considered negative.\n",
    "                          pos_class=1) # The protected attribute class considered positive."
   ]
  },
  {
   "cell_type": "code",
   "execution_count": null,
   "metadata": {},
   "outputs": [],
   "source": [
    "# The generator takes three arguments, the features X, true labels _y, and predictions y_hat.\n",
    "# generator.sample(X,      # 3D, all previous features of shape [t, n, m]\n",
    "#                  y,      # 2D, all previous true labels of shape [t, n]\n",
    "#                  y_hat   # 2D, all previous predictions of shape [t, n]\n"
   ]
  },
  {
   "cell_type": "code",
   "execution_count": null,
   "metadata": {},
   "outputs": [],
   "source": [
    "# When called with None, None, None the generator samples the initial data as \n",
    "# explained in the previous section.\n",
    "X, x_sens, y = generator.sample(None, None, None)\n",
    "print(X.shape)\n",
    "print(x_sens.shape)\n",
    "print(y.shape)"
   ]
  },
  {
   "cell_type": "code",
   "execution_count": null,
   "metadata": {},
   "outputs": [],
   "source": [
    "# Otherwise, new data is sampled either group or individual wise.\n",
    "# Examples are provided in the following notebooks.\n",
    "X_new, x_sens_new, y_new = generator.sample([X], [x_sens], [y])\n",
    "print(X_new.shape)\n",
    "print(x_sens_new.shape)\n",
    "print(y_new.shape)"
   ]
  },
  {
   "cell_type": "code",
   "execution_count": null,
   "metadata": {},
   "outputs": [],
   "source": [
    "# This function returns the true label given data.\n",
    "# This is, for instance, necessary for the data generating boundary plot.\n",
    "# In this example, they are the same as y_new.\n",
    "labels = generator.get_label(X_new, x_sens_new)\n",
    "print(labels.shape)\n",
    "print(np.all(labels==y_new))"
   ]
  },
  {
   "cell_type": "markdown",
   "metadata": {},
   "source": [
    "# 2. AIF360 Wrappers\n",
    "Two wrapper classes provide access to aif360 metrics and functions to be used in the long term framework."
   ]
  },
  {
   "cell_type": "markdown",
   "metadata": {},
   "source": [
    "## 2.1. AIF360 Long Term Prediction\n",
    "Interface to use AIF360s algorithms for the long term plot"
   ]
  },
  {
   "cell_type": "code",
   "execution_count": null,
   "metadata": {},
   "outputs": [],
   "source": [
    "# LTF classifier from AIF360 classifier.\n",
    "# https://aif360.readthedocs.io/en/latest/modules/inprocessing.html\n",
    "clf = AifLongTermPrediction(clf=PrejudiceRemover(), # Any AIF360\n",
    "                            pos_class=1, \n",
    "                            neg_class=0, \n",
    "                            pos_label=1, \n",
    "                            neg_label=0)"
   ]
  },
  {
   "cell_type": "code",
   "execution_count": null,
   "metadata": {},
   "outputs": [],
   "source": [
    "# Fits clf to the data. In the background, X_t, X_sens_t and y_t are stacked into an aif360 data frame\n",
    "# and the fit method is called.\n",
    "clf.fit(X_new, \n",
    "        x_sens_new, \n",
    "        y_new)"
   ]
  },
  {
   "cell_type": "code",
   "execution_count": null,
   "metadata": {},
   "outputs": [],
   "source": [
    "# Predict data of one time step. In the background, X_t and X_sens_t are stacked into an aif360 data frame\n",
    "# and the predict method is called.\n",
    "y_hat = clf.predict(X_new, \n",
    "                    x_sens_new)\n",
    "\n",
    "print(y_hat.shape)"
   ]
  },
  {
   "cell_type": "markdown",
   "metadata": {},
   "source": [
    "## 2.1. AIF360 Long Term Metric\n",
    "The class provides an interface to use AIF360 metrics for long term prediction."
   ]
  },
  {
   "cell_type": "code",
   "execution_count": null,
   "metadata": {},
   "outputs": [],
   "source": [
    "# The default metrics are accuracy and disparate impact. It is possible to provide more than two metrics\n",
    "# but the plot is unclear then. Any classification metric from aif 360 can be passed as string.\n",
    "# https://aif360.readthedocs.io/en/latest/modules/metrics.html#classification-metric\n",
    "metric = AifLongTermMetric(metrics=[\"accuracy\", \"disparate_impact\"],\n",
    "                           pos_class=1, \n",
    "                           neg_class=0, \n",
    "                           pos_label=1, \n",
    "                           neg_label=0)"
   ]
  },
  {
   "cell_type": "code",
   "execution_count": null,
   "metadata": {},
   "outputs": [],
   "source": [
    "# Computes the metrics on a snapshot of the data.\n",
    "metric.metric(X_new, \n",
    "              x_sens_new, \n",
    "              y_new, \n",
    "              y_hat)"
   ]
  },
  {
   "cell_type": "markdown",
   "metadata": {},
   "source": [
    "# 3. Long Term Plot\n",
    "Runs decision process over several generations."
   ]
  },
  {
   "cell_type": "code",
   "execution_count": null,
   "metadata": {},
   "outputs": [],
   "source": [
    "l = LongTermFairnessPlot(generator,     # Must implement .sample() function as described above.\n",
    "                         clf,           # Must implement fit(X, X_sens, y) and predict(X, X_sense).\n",
    "                         metric.metric, # Must implement .metric(X_t, x_sense_t, y_t, y_hat_t)\n",
    "                         x_lim=[-3, 12], # Axes limits for the final plot.\n",
    "                         y_lim=[-1, 13]) # Axes limit for the final plot."
   ]
  },
  {
   "cell_type": "code",
   "execution_count": null,
   "metadata": {},
   "outputs": [],
   "source": [
    "# Initialize the data.\n",
    "l.init_data()"
   ]
  },
  {
   "cell_type": "code",
   "execution_count": null,
   "metadata": {},
   "outputs": [],
   "source": [
    "# Runs one iteration with the true data pipeline only.\n",
    "l.run_generation()"
   ]
  },
  {
   "cell_type": "code",
   "execution_count": null,
   "metadata": {},
   "outputs": [],
   "source": [
    "# Run baseline generation pipeline (assuming all previous predictions to be positive).\n",
    "l.run_baseline_generation()"
   ]
  },
  {
   "cell_type": "code",
   "execution_count": null,
   "metadata": {},
   "outputs": [],
   "source": [
    "# Plot the data points of the last generation (both baseline and true data).\n",
    "l.plot_generation()"
   ]
  },
  {
   "cell_type": "code",
   "execution_count": null,
   "metadata": {},
   "outputs": [],
   "source": [
    "# Combines the previous steps; Initialize data, run both generations.\n",
    "l.run(10)"
   ]
  },
  {
   "cell_type": "code",
   "execution_count": null,
   "metadata": {},
   "outputs": [],
   "source": [
    "# Plot the metrics over all steps.\n",
    "l.plot_ltf()"
   ]
  },
  {
   "cell_type": "code",
   "execution_count": null,
   "metadata": {},
   "outputs": [],
   "source": []
  }
 ],
 "metadata": {
  "kernelspec": {
   "display_name": "Python 3",
   "language": "python",
   "name": "python3"
  },
  "language_info": {
   "codemirror_mode": {
    "name": "ipython",
    "version": 3
   },
   "file_extension": ".py",
   "mimetype": "text/x-python",
   "name": "python",
   "nbconvert_exporter": "python",
   "pygments_lexer": "ipython3",
   "version": "3.7.4"
  }
 },
 "nbformat": 4,
 "nbformat_minor": 2
}
